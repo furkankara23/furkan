{
 "cells": [
  {
   "cell_type": "code",
   "execution_count": 2,
   "metadata": {},
   "outputs": [],
   "source": [
    "import nsfg\n",
    "import thinkstats2\n",
    "import thinkplot\n",
    "import numpy as np\n",
    "import pandas as pd\n"
   ]
  },
  {
   "cell_type": "code",
   "execution_count": 3,
   "metadata": {
    "scrolled": true
   },
   "outputs": [
    {
     "data": {
      "text/html": [
       "<div>\n",
       "<style scoped>\n",
       "    .dataframe tbody tr th:only-of-type {\n",
       "        vertical-align: middle;\n",
       "    }\n",
       "\n",
       "    .dataframe tbody tr th {\n",
       "        vertical-align: top;\n",
       "    }\n",
       "\n",
       "    .dataframe thead th {\n",
       "        text-align: right;\n",
       "    }\n",
       "</style>\n",
       "<table border=\"1\" class=\"dataframe\">\n",
       "  <thead>\n",
       "    <tr style=\"text-align: right;\">\n",
       "      <th></th>\n",
       "      <th>coachID</th>\n",
       "      <th>year</th>\n",
       "      <th>tmID</th>\n",
       "      <th>lgID</th>\n",
       "      <th>stint</th>\n",
       "      <th>won</th>\n",
       "      <th>lost</th>\n",
       "      <th>post_wins</th>\n",
       "      <th>post_losses</th>\n",
       "    </tr>\n",
       "  </thead>\n",
       "  <tbody>\n",
       "    <tr>\n",
       "      <th>0</th>\n",
       "      <td>johnsne01</td>\n",
       "      <td>1961</td>\n",
       "      <td>PGR</td>\n",
       "      <td>ABL1</td>\n",
       "      <td>1</td>\n",
       "      <td>41.0</td>\n",
       "      <td>40.0</td>\n",
       "      <td>0.0</td>\n",
       "      <td>1.0</td>\n",
       "    </tr>\n",
       "    <tr>\n",
       "      <th>1</th>\n",
       "      <td>auerbre01</td>\n",
       "      <td>1946</td>\n",
       "      <td>WSC</td>\n",
       "      <td>NBA</td>\n",
       "      <td>1</td>\n",
       "      <td>49.0</td>\n",
       "      <td>11.0</td>\n",
       "      <td>2.0</td>\n",
       "      <td>4.0</td>\n",
       "    </tr>\n",
       "    <tr>\n",
       "      <th>2</th>\n",
       "      <td>birchpa01</td>\n",
       "      <td>1946</td>\n",
       "      <td>PIT</td>\n",
       "      <td>NBA</td>\n",
       "      <td>1</td>\n",
       "      <td>15.0</td>\n",
       "      <td>45.0</td>\n",
       "      <td>0.0</td>\n",
       "      <td>0.0</td>\n",
       "    </tr>\n",
       "    <tr>\n",
       "      <th>3</th>\n",
       "      <td>cliffro01</td>\n",
       "      <td>1946</td>\n",
       "      <td>CLR</td>\n",
       "      <td>NBA</td>\n",
       "      <td>2</td>\n",
       "      <td>13.0</td>\n",
       "      <td>10.0</td>\n",
       "      <td>1.0</td>\n",
       "      <td>2.0</td>\n",
       "    </tr>\n",
       "    <tr>\n",
       "      <th>4</th>\n",
       "      <td>cohalne01</td>\n",
       "      <td>1946</td>\n",
       "      <td>NYK</td>\n",
       "      <td>NBA</td>\n",
       "      <td>1</td>\n",
       "      <td>33.0</td>\n",
       "      <td>27.0</td>\n",
       "      <td>2.0</td>\n",
       "      <td>3.0</td>\n",
       "    </tr>\n",
       "    <tr>\n",
       "      <th>5</th>\n",
       "      <td>curtigl01</td>\n",
       "      <td>1946</td>\n",
       "      <td>DTF</td>\n",
       "      <td>NBA</td>\n",
       "      <td>1</td>\n",
       "      <td>12.0</td>\n",
       "      <td>22.0</td>\n",
       "      <td>0.0</td>\n",
       "      <td>0.0</td>\n",
       "    </tr>\n",
       "    <tr>\n",
       "      <th>6</th>\n",
       "      <td>dehnere01</td>\n",
       "      <td>1946</td>\n",
       "      <td>CLR</td>\n",
       "      <td>NBA</td>\n",
       "      <td>1</td>\n",
       "      <td>17.0</td>\n",
       "      <td>20.0</td>\n",
       "      <td>0.0</td>\n",
       "      <td>0.0</td>\n",
       "    </tr>\n",
       "    <tr>\n",
       "      <th>7</th>\n",
       "      <td>fitzgdi01</td>\n",
       "      <td>1946</td>\n",
       "      <td>TRH</td>\n",
       "      <td>NBA</td>\n",
       "      <td>1</td>\n",
       "      <td>2.0</td>\n",
       "      <td>1.0</td>\n",
       "      <td>0.0</td>\n",
       "      <td>0.0</td>\n",
       "    </tr>\n",
       "    <tr>\n",
       "      <th>8</th>\n",
       "      <td>gottled01</td>\n",
       "      <td>1946</td>\n",
       "      <td>PHW</td>\n",
       "      <td>NBA</td>\n",
       "      <td>1</td>\n",
       "      <td>35.0</td>\n",
       "      <td>25.0</td>\n",
       "      <td>8.0</td>\n",
       "      <td>2.0</td>\n",
       "    </tr>\n",
       "    <tr>\n",
       "      <th>9</th>\n",
       "      <td>haymale01</td>\n",
       "      <td>1946</td>\n",
       "      <td>TRH</td>\n",
       "      <td>NBA</td>\n",
       "      <td>3</td>\n",
       "      <td>0.0</td>\n",
       "      <td>1.0</td>\n",
       "      <td>0.0</td>\n",
       "      <td>0.0</td>\n",
       "    </tr>\n",
       "    <tr>\n",
       "      <th>10</th>\n",
       "      <td>loeffke01</td>\n",
       "      <td>1946</td>\n",
       "      <td>STB</td>\n",
       "      <td>NBA</td>\n",
       "      <td>1</td>\n",
       "      <td>38.0</td>\n",
       "      <td>23.0</td>\n",
       "      <td>1.0</td>\n",
       "      <td>2.0</td>\n",
       "    </tr>\n",
       "    <tr>\n",
       "      <th>11</th>\n",
       "      <td>morriro01</td>\n",
       "      <td>1946</td>\n",
       "      <td>PRO</td>\n",
       "      <td>NBA</td>\n",
       "      <td>1</td>\n",
       "      <td>28.0</td>\n",
       "      <td>32.0</td>\n",
       "      <td>0.0</td>\n",
       "      <td>0.0</td>\n",
       "    </tr>\n",
       "    <tr>\n",
       "      <th>12</th>\n",
       "      <td>olsenha01</td>\n",
       "      <td>1946</td>\n",
       "      <td>CHS</td>\n",
       "      <td>NBA</td>\n",
       "      <td>1</td>\n",
       "      <td>39.0</td>\n",
       "      <td>22.0</td>\n",
       "      <td>5.0</td>\n",
       "      <td>6.0</td>\n",
       "    </tr>\n",
       "    <tr>\n",
       "      <th>13</th>\n",
       "      <td>rolfero01</td>\n",
       "      <td>1946</td>\n",
       "      <td>TRH</td>\n",
       "      <td>NBA</td>\n",
       "      <td>4</td>\n",
       "      <td>17.0</td>\n",
       "      <td>27.0</td>\n",
       "      <td>0.0</td>\n",
       "      <td>0.0</td>\n",
       "    </tr>\n",
       "    <tr>\n",
       "      <th>14</th>\n",
       "      <td>russejo01</td>\n",
       "      <td>1946</td>\n",
       "      <td>BOS</td>\n",
       "      <td>NBA</td>\n",
       "      <td>1</td>\n",
       "      <td>22.0</td>\n",
       "      <td>38.0</td>\n",
       "      <td>0.0</td>\n",
       "      <td>0.0</td>\n",
       "    </tr>\n",
       "    <tr>\n",
       "      <th>15</th>\n",
       "      <td>sachsph01</td>\n",
       "      <td>1946</td>\n",
       "      <td>DTF</td>\n",
       "      <td>NBA</td>\n",
       "      <td>2</td>\n",
       "      <td>8.0</td>\n",
       "      <td>18.0</td>\n",
       "      <td>0.0</td>\n",
       "      <td>0.0</td>\n",
       "    </tr>\n",
       "    <tr>\n",
       "      <th>16</th>\n",
       "      <td>sadowed01</td>\n",
       "      <td>1946</td>\n",
       "      <td>TRH</td>\n",
       "      <td>NBA</td>\n",
       "      <td>2</td>\n",
       "      <td>3.0</td>\n",
       "      <td>9.0</td>\n",
       "      <td>0.0</td>\n",
       "      <td>0.0</td>\n",
       "    </tr>\n",
       "    <tr>\n",
       "      <th>17</th>\n",
       "      <td>auerbre01</td>\n",
       "      <td>1947</td>\n",
       "      <td>WSC</td>\n",
       "      <td>NBA</td>\n",
       "      <td>1</td>\n",
       "      <td>28.0</td>\n",
       "      <td>20.0</td>\n",
       "      <td>0.0</td>\n",
       "      <td>0.0</td>\n",
       "    </tr>\n",
       "    <tr>\n",
       "      <th>18</th>\n",
       "      <td>gottled01</td>\n",
       "      <td>1947</td>\n",
       "      <td>PHW</td>\n",
       "      <td>NBA</td>\n",
       "      <td>1</td>\n",
       "      <td>27.0</td>\n",
       "      <td>21.0</td>\n",
       "      <td>6.0</td>\n",
       "      <td>7.0</td>\n",
       "    </tr>\n",
       "    <tr>\n",
       "      <th>19</th>\n",
       "      <td>hickena01</td>\n",
       "      <td>1947</td>\n",
       "      <td>PRO</td>\n",
       "      <td>NBA</td>\n",
       "      <td>1</td>\n",
       "      <td>4.0</td>\n",
       "      <td>25.0</td>\n",
       "      <td>0.0</td>\n",
       "      <td>0.0</td>\n",
       "    </tr>\n",
       "    <tr>\n",
       "      <th>20</th>\n",
       "      <td>jeannbu01</td>\n",
       "      <td>1947</td>\n",
       "      <td>BLB</td>\n",
       "      <td>NBA</td>\n",
       "      <td>1</td>\n",
       "      <td>28.0</td>\n",
       "      <td>20.0</td>\n",
       "      <td>8.0</td>\n",
       "      <td>3.0</td>\n",
       "    </tr>\n",
       "    <tr>\n",
       "      <th>21</th>\n",
       "      <td>lapchjo01</td>\n",
       "      <td>1947</td>\n",
       "      <td>NYK</td>\n",
       "      <td>NBA</td>\n",
       "      <td>1</td>\n",
       "      <td>26.0</td>\n",
       "      <td>22.0</td>\n",
       "      <td>1.0</td>\n",
       "      <td>2.0</td>\n",
       "    </tr>\n",
       "    <tr>\n",
       "      <th>22</th>\n",
       "      <td>loeffke01</td>\n",
       "      <td>1947</td>\n",
       "      <td>STB</td>\n",
       "      <td>NBA</td>\n",
       "      <td>1</td>\n",
       "      <td>29.0</td>\n",
       "      <td>19.0</td>\n",
       "      <td>3.0</td>\n",
       "      <td>4.0</td>\n",
       "    </tr>\n",
       "    <tr>\n",
       "      <th>23</th>\n",
       "      <td>olsenha01</td>\n",
       "      <td>1947</td>\n",
       "      <td>CHS</td>\n",
       "      <td>NBA</td>\n",
       "      <td>1</td>\n",
       "      <td>28.0</td>\n",
       "      <td>20.0</td>\n",
       "      <td>2.0</td>\n",
       "      <td>3.0</td>\n",
       "    </tr>\n",
       "    <tr>\n",
       "      <th>24</th>\n",
       "      <td>russejo01</td>\n",
       "      <td>1947</td>\n",
       "      <td>BOS</td>\n",
       "      <td>NBA</td>\n",
       "      <td>1</td>\n",
       "      <td>20.0</td>\n",
       "      <td>28.0</td>\n",
       "      <td>1.0</td>\n",
       "      <td>2.0</td>\n",
       "    </tr>\n",
       "    <tr>\n",
       "      <th>25</th>\n",
       "      <td>soaral01</td>\n",
       "      <td>1947</td>\n",
       "      <td>PRO</td>\n",
       "      <td>NBA</td>\n",
       "      <td>2</td>\n",
       "      <td>2.0</td>\n",
       "      <td>17.0</td>\n",
       "      <td>0.0</td>\n",
       "      <td>0.0</td>\n",
       "    </tr>\n",
       "    <tr>\n",
       "      <th>26</th>\n",
       "      <td>armstcu01</td>\n",
       "      <td>1948</td>\n",
       "      <td>FTW</td>\n",
       "      <td>NBA</td>\n",
       "      <td>2</td>\n",
       "      <td>22.0</td>\n",
       "      <td>32.0</td>\n",
       "      <td>0.0</td>\n",
       "      <td>0.0</td>\n",
       "    </tr>\n",
       "    <tr>\n",
       "      <th>27</th>\n",
       "      <td>auerbre01</td>\n",
       "      <td>1948</td>\n",
       "      <td>WSC</td>\n",
       "      <td>NBA</td>\n",
       "      <td>1</td>\n",
       "      <td>38.0</td>\n",
       "      <td>22.0</td>\n",
       "      <td>6.0</td>\n",
       "      <td>5.0</td>\n",
       "    </tr>\n",
       "    <tr>\n",
       "      <th>28</th>\n",
       "      <td>benneca01</td>\n",
       "      <td>1948</td>\n",
       "      <td>FTW</td>\n",
       "      <td>NBA</td>\n",
       "      <td>1</td>\n",
       "      <td>0.0</td>\n",
       "      <td>6.0</td>\n",
       "      <td>0.0</td>\n",
       "      <td>0.0</td>\n",
       "    </tr>\n",
       "    <tr>\n",
       "      <th>29</th>\n",
       "      <td>brownph01</td>\n",
       "      <td>1948</td>\n",
       "      <td>CHS</td>\n",
       "      <td>NBA</td>\n",
       "      <td>2</td>\n",
       "      <td>10.0</td>\n",
       "      <td>1.0</td>\n",
       "      <td>0.0</td>\n",
       "      <td>0.0</td>\n",
       "    </tr>\n",
       "    <tr>\n",
       "      <th>...</th>\n",
       "      <td>...</td>\n",
       "      <td>...</td>\n",
       "      <td>...</td>\n",
       "      <td>...</td>\n",
       "      <td>...</td>\n",
       "      <td>...</td>\n",
       "      <td>...</td>\n",
       "      <td>...</td>\n",
       "      <td>...</td>\n",
       "    </tr>\n",
       "    <tr>\n",
       "      <th>1659</th>\n",
       "      <td>brighal01</td>\n",
       "      <td>1961</td>\n",
       "      <td>SFS</td>\n",
       "      <td>ABL1</td>\n",
       "      <td>3</td>\n",
       "      <td>NaN</td>\n",
       "      <td>NaN</td>\n",
       "      <td>NaN</td>\n",
       "      <td>NaN</td>\n",
       "    </tr>\n",
       "    <tr>\n",
       "      <th>1660</th>\n",
       "      <td>gunthco01</td>\n",
       "      <td>1947</td>\n",
       "      <td>ATC</td>\n",
       "      <td>PBLA</td>\n",
       "      <td>1</td>\n",
       "      <td>7.0</td>\n",
       "      <td>1.0</td>\n",
       "      <td>NaN</td>\n",
       "      <td>NaN</td>\n",
       "    </tr>\n",
       "    <tr>\n",
       "      <th>1661</th>\n",
       "      <td>lewisfr01</td>\n",
       "      <td>1947</td>\n",
       "      <td>BIR</td>\n",
       "      <td>PBLA</td>\n",
       "      <td>1</td>\n",
       "      <td>5.0</td>\n",
       "      <td>2.0</td>\n",
       "      <td>NaN</td>\n",
       "      <td>NaN</td>\n",
       "    </tr>\n",
       "    <tr>\n",
       "      <th>1662</th>\n",
       "      <td>dehnehe01</td>\n",
       "      <td>1947</td>\n",
       "      <td>CHT</td>\n",
       "      <td>PBLA</td>\n",
       "      <td>1</td>\n",
       "      <td>3.0</td>\n",
       "      <td>3.0</td>\n",
       "      <td>NaN</td>\n",
       "      <td>NaN</td>\n",
       "    </tr>\n",
       "    <tr>\n",
       "      <th>1663</th>\n",
       "      <td>mcderbo01</td>\n",
       "      <td>1947</td>\n",
       "      <td>CHG</td>\n",
       "      <td>PBLA</td>\n",
       "      <td>1</td>\n",
       "      <td>8.0</td>\n",
       "      <td>0.0</td>\n",
       "      <td>NaN</td>\n",
       "      <td>NaN</td>\n",
       "    </tr>\n",
       "    <tr>\n",
       "      <th>1664</th>\n",
       "      <td>szukast01</td>\n",
       "      <td>1947</td>\n",
       "      <td>GRR</td>\n",
       "      <td>PBLA</td>\n",
       "      <td>1</td>\n",
       "      <td>3.0</td>\n",
       "      <td>3.0</td>\n",
       "      <td>NaN</td>\n",
       "      <td>NaN</td>\n",
       "    </tr>\n",
       "    <tr>\n",
       "      <th>1665</th>\n",
       "      <td>clossbi01</td>\n",
       "      <td>1947</td>\n",
       "      <td>HMV</td>\n",
       "      <td>PBLA</td>\n",
       "      <td>1</td>\n",
       "      <td>2.0</td>\n",
       "      <td>0.0</td>\n",
       "      <td>NaN</td>\n",
       "      <td>NaN</td>\n",
       "    </tr>\n",
       "    <tr>\n",
       "      <th>1666</th>\n",
       "      <td>hyattch01</td>\n",
       "      <td>1947</td>\n",
       "      <td>KCB</td>\n",
       "      <td>PBLA</td>\n",
       "      <td>1</td>\n",
       "      <td>1.0</td>\n",
       "      <td>5.0</td>\n",
       "      <td>NaN</td>\n",
       "      <td>NaN</td>\n",
       "    </tr>\n",
       "    <tr>\n",
       "      <th>1667</th>\n",
       "      <td>vaughvi01</td>\n",
       "      <td>1947</td>\n",
       "      <td>LOU</td>\n",
       "      <td>PBLA</td>\n",
       "      <td>1</td>\n",
       "      <td>2.0</td>\n",
       "      <td>4.0</td>\n",
       "      <td>NaN</td>\n",
       "      <td>NaN</td>\n",
       "    </tr>\n",
       "    <tr>\n",
       "      <th>1668</th>\n",
       "      <td>pailehe01</td>\n",
       "      <td>1947</td>\n",
       "      <td>NOL</td>\n",
       "      <td>PBLA</td>\n",
       "      <td>1</td>\n",
       "      <td>3.0</td>\n",
       "      <td>5.0</td>\n",
       "      <td>NaN</td>\n",
       "      <td>NaN</td>\n",
       "    </tr>\n",
       "    <tr>\n",
       "      <th>1669</th>\n",
       "      <td>rosegl01</td>\n",
       "      <td>1947</td>\n",
       "      <td>OKD</td>\n",
       "      <td>PBLA</td>\n",
       "      <td>1</td>\n",
       "      <td>2.0</td>\n",
       "      <td>3.0</td>\n",
       "      <td>NaN</td>\n",
       "      <td>NaN</td>\n",
       "    </tr>\n",
       "    <tr>\n",
       "      <th>1670</th>\n",
       "      <td>shephle01</td>\n",
       "      <td>1947</td>\n",
       "      <td>OMA</td>\n",
       "      <td>PBLA</td>\n",
       "      <td>1</td>\n",
       "      <td>2.0</td>\n",
       "      <td>4.0</td>\n",
       "      <td>NaN</td>\n",
       "      <td>NaN</td>\n",
       "    </tr>\n",
       "    <tr>\n",
       "      <th>1671</th>\n",
       "      <td>hutchha01</td>\n",
       "      <td>1947</td>\n",
       "      <td>STJ</td>\n",
       "      <td>PBLA</td>\n",
       "      <td>1</td>\n",
       "      <td>1.0</td>\n",
       "      <td>6.0</td>\n",
       "      <td>NaN</td>\n",
       "      <td>NaN</td>\n",
       "    </tr>\n",
       "    <tr>\n",
       "      <th>1672</th>\n",
       "      <td>halebr01</td>\n",
       "      <td>1947</td>\n",
       "      <td>STP</td>\n",
       "      <td>PBLA</td>\n",
       "      <td>1</td>\n",
       "      <td>6.0</td>\n",
       "      <td>3.0</td>\n",
       "      <td>NaN</td>\n",
       "      <td>NaN</td>\n",
       "    </tr>\n",
       "    <tr>\n",
       "      <th>1673</th>\n",
       "      <td>davisdo01</td>\n",
       "      <td>1947</td>\n",
       "      <td>SPR</td>\n",
       "      <td>PBLA</td>\n",
       "      <td>1</td>\n",
       "      <td>1.0</td>\n",
       "      <td>7.0</td>\n",
       "      <td>NaN</td>\n",
       "      <td>NaN</td>\n",
       "    </tr>\n",
       "    <tr>\n",
       "      <th>1674</th>\n",
       "      <td>gibbsji01</td>\n",
       "      <td>1947</td>\n",
       "      <td>TUL</td>\n",
       "      <td>PBLA</td>\n",
       "      <td>1</td>\n",
       "      <td>7.0</td>\n",
       "      <td>3.0</td>\n",
       "      <td>NaN</td>\n",
       "      <td>NaN</td>\n",
       "    </tr>\n",
       "    <tr>\n",
       "      <th>1675</th>\n",
       "      <td>roossw01</td>\n",
       "      <td>1947</td>\n",
       "      <td>WAT</td>\n",
       "      <td>PBLA</td>\n",
       "      <td>1</td>\n",
       "      <td>1.0</td>\n",
       "      <td>5.0</td>\n",
       "      <td>NaN</td>\n",
       "      <td>NaN</td>\n",
       "    </tr>\n",
       "    <tr>\n",
       "      <th>1676</th>\n",
       "      <td>gatesfr01</td>\n",
       "      <td>1950</td>\n",
       "      <td>AND</td>\n",
       "      <td>NPBL</td>\n",
       "      <td>1</td>\n",
       "      <td>NaN</td>\n",
       "      <td>NaN</td>\n",
       "      <td>NaN</td>\n",
       "      <td>NaN</td>\n",
       "    </tr>\n",
       "    <tr>\n",
       "      <th>1677</th>\n",
       "      <td>klierle01</td>\n",
       "      <td>1950</td>\n",
       "      <td>AND</td>\n",
       "      <td>NPBL</td>\n",
       "      <td>2</td>\n",
       "      <td>NaN</td>\n",
       "      <td>NaN</td>\n",
       "      <td>NaN</td>\n",
       "      <td>NaN</td>\n",
       "    </tr>\n",
       "    <tr>\n",
       "      <th>1678</th>\n",
       "      <td>dardeji01</td>\n",
       "      <td>1950</td>\n",
       "      <td>DNN</td>\n",
       "      <td>NPBL</td>\n",
       "      <td>1</td>\n",
       "      <td>18.0</td>\n",
       "      <td>16.0</td>\n",
       "      <td>NaN</td>\n",
       "      <td>NaN</td>\n",
       "    </tr>\n",
       "    <tr>\n",
       "      <th>1679</th>\n",
       "      <td>lathage02</td>\n",
       "      <td>1950</td>\n",
       "      <td>EVA</td>\n",
       "      <td>NPBL</td>\n",
       "      <td>1</td>\n",
       "      <td>0.0</td>\n",
       "      <td>6.0</td>\n",
       "      <td>NaN</td>\n",
       "      <td>NaN</td>\n",
       "    </tr>\n",
       "    <tr>\n",
       "      <th>1680</th>\n",
       "      <td>koliswa01</td>\n",
       "      <td>1950</td>\n",
       "      <td>LOA</td>\n",
       "      <td>NPBL</td>\n",
       "      <td>1</td>\n",
       "      <td>18.0</td>\n",
       "      <td>17.0</td>\n",
       "      <td>NaN</td>\n",
       "      <td>NaN</td>\n",
       "    </tr>\n",
       "    <tr>\n",
       "      <th>1681</th>\n",
       "      <td>mcderbo01</td>\n",
       "      <td>1950</td>\n",
       "      <td>GRH</td>\n",
       "      <td>NPBL</td>\n",
       "      <td>1</td>\n",
       "      <td>NaN</td>\n",
       "      <td>NaN</td>\n",
       "      <td>NaN</td>\n",
       "      <td>NaN</td>\n",
       "    </tr>\n",
       "    <tr>\n",
       "      <th>1682</th>\n",
       "      <td>glammge01</td>\n",
       "      <td>1950</td>\n",
       "      <td>GRH</td>\n",
       "      <td>NPBL</td>\n",
       "      <td>2</td>\n",
       "      <td>NaN</td>\n",
       "      <td>NaN</td>\n",
       "      <td>NaN</td>\n",
       "      <td>NaN</td>\n",
       "    </tr>\n",
       "    <tr>\n",
       "      <th>1683</th>\n",
       "      <td>towerbl01</td>\n",
       "      <td>1950</td>\n",
       "      <td>GRH</td>\n",
       "      <td>NPBL</td>\n",
       "      <td>3</td>\n",
       "      <td>NaN</td>\n",
       "      <td>NaN</td>\n",
       "      <td>NaN</td>\n",
       "      <td>NaN</td>\n",
       "    </tr>\n",
       "    <tr>\n",
       "      <th>1684</th>\n",
       "      <td>cloydpa01</td>\n",
       "      <td>1950</td>\n",
       "      <td>KCH</td>\n",
       "      <td>NPBL</td>\n",
       "      <td>1</td>\n",
       "      <td>NaN</td>\n",
       "      <td>NaN</td>\n",
       "      <td>NaN</td>\n",
       "      <td>NaN</td>\n",
       "    </tr>\n",
       "    <tr>\n",
       "      <th>1685</th>\n",
       "      <td>eurasge01</td>\n",
       "      <td>1950</td>\n",
       "      <td>KCH</td>\n",
       "      <td>NPBL</td>\n",
       "      <td>2</td>\n",
       "      <td>NaN</td>\n",
       "      <td>NaN</td>\n",
       "      <td>NaN</td>\n",
       "      <td>NaN</td>\n",
       "    </tr>\n",
       "    <tr>\n",
       "      <th>1686</th>\n",
       "      <td>schulho01</td>\n",
       "      <td>1950</td>\n",
       "      <td>SPL</td>\n",
       "      <td>NPBL</td>\n",
       "      <td>1</td>\n",
       "      <td>12.0</td>\n",
       "      <td>8.0</td>\n",
       "      <td>NaN</td>\n",
       "      <td>NaN</td>\n",
       "    </tr>\n",
       "    <tr>\n",
       "      <th>1687</th>\n",
       "      <td>sueseke01</td>\n",
       "      <td>1950</td>\n",
       "      <td>SHE</td>\n",
       "      <td>NPBL</td>\n",
       "      <td>1</td>\n",
       "      <td>29.0</td>\n",
       "      <td>16.0</td>\n",
       "      <td>NaN</td>\n",
       "      <td>NaN</td>\n",
       "    </tr>\n",
       "    <tr>\n",
       "      <th>1688</th>\n",
       "      <td>smileja01</td>\n",
       "      <td>1950</td>\n",
       "      <td>WAT</td>\n",
       "      <td>NPBL</td>\n",
       "      <td>1</td>\n",
       "      <td>32.0</td>\n",
       "      <td>24.0</td>\n",
       "      <td>NaN</td>\n",
       "      <td>NaN</td>\n",
       "    </tr>\n",
       "  </tbody>\n",
       "</table>\n",
       "<p>1689 rows × 9 columns</p>\n",
       "</div>"
      ],
      "text/plain": [
       "        coachID  year tmID  lgID  stint   won  lost  post_wins  post_losses\n",
       "0     johnsne01  1961  PGR  ABL1      1  41.0  40.0        0.0          1.0\n",
       "1     auerbre01  1946  WSC   NBA      1  49.0  11.0        2.0          4.0\n",
       "2     birchpa01  1946  PIT   NBA      1  15.0  45.0        0.0          0.0\n",
       "3     cliffro01  1946  CLR   NBA      2  13.0  10.0        1.0          2.0\n",
       "4     cohalne01  1946  NYK   NBA      1  33.0  27.0        2.0          3.0\n",
       "5     curtigl01  1946  DTF   NBA      1  12.0  22.0        0.0          0.0\n",
       "6     dehnere01  1946  CLR   NBA      1  17.0  20.0        0.0          0.0\n",
       "7     fitzgdi01  1946  TRH   NBA      1   2.0   1.0        0.0          0.0\n",
       "8     gottled01  1946  PHW   NBA      1  35.0  25.0        8.0          2.0\n",
       "9     haymale01  1946  TRH   NBA      3   0.0   1.0        0.0          0.0\n",
       "10    loeffke01  1946  STB   NBA      1  38.0  23.0        1.0          2.0\n",
       "11    morriro01  1946  PRO   NBA      1  28.0  32.0        0.0          0.0\n",
       "12    olsenha01  1946  CHS   NBA      1  39.0  22.0        5.0          6.0\n",
       "13    rolfero01  1946  TRH   NBA      4  17.0  27.0        0.0          0.0\n",
       "14    russejo01  1946  BOS   NBA      1  22.0  38.0        0.0          0.0\n",
       "15    sachsph01  1946  DTF   NBA      2   8.0  18.0        0.0          0.0\n",
       "16    sadowed01  1946  TRH   NBA      2   3.0   9.0        0.0          0.0\n",
       "17    auerbre01  1947  WSC   NBA      1  28.0  20.0        0.0          0.0\n",
       "18    gottled01  1947  PHW   NBA      1  27.0  21.0        6.0          7.0\n",
       "19    hickena01  1947  PRO   NBA      1   4.0  25.0        0.0          0.0\n",
       "20    jeannbu01  1947  BLB   NBA      1  28.0  20.0        8.0          3.0\n",
       "21    lapchjo01  1947  NYK   NBA      1  26.0  22.0        1.0          2.0\n",
       "22    loeffke01  1947  STB   NBA      1  29.0  19.0        3.0          4.0\n",
       "23    olsenha01  1947  CHS   NBA      1  28.0  20.0        2.0          3.0\n",
       "24    russejo01  1947  BOS   NBA      1  20.0  28.0        1.0          2.0\n",
       "25     soaral01  1947  PRO   NBA      2   2.0  17.0        0.0          0.0\n",
       "26    armstcu01  1948  FTW   NBA      2  22.0  32.0        0.0          0.0\n",
       "27    auerbre01  1948  WSC   NBA      1  38.0  22.0        6.0          5.0\n",
       "28    benneca01  1948  FTW   NBA      1   0.0   6.0        0.0          0.0\n",
       "29    brownph01  1948  CHS   NBA      2  10.0   1.0        0.0          0.0\n",
       "...         ...   ...  ...   ...    ...   ...   ...        ...          ...\n",
       "1659  brighal01  1961  SFS  ABL1      3   NaN   NaN        NaN          NaN\n",
       "1660  gunthco01  1947  ATC  PBLA      1   7.0   1.0        NaN          NaN\n",
       "1661  lewisfr01  1947  BIR  PBLA      1   5.0   2.0        NaN          NaN\n",
       "1662  dehnehe01  1947  CHT  PBLA      1   3.0   3.0        NaN          NaN\n",
       "1663  mcderbo01  1947  CHG  PBLA      1   8.0   0.0        NaN          NaN\n",
       "1664  szukast01  1947  GRR  PBLA      1   3.0   3.0        NaN          NaN\n",
       "1665  clossbi01  1947  HMV  PBLA      1   2.0   0.0        NaN          NaN\n",
       "1666  hyattch01  1947  KCB  PBLA      1   1.0   5.0        NaN          NaN\n",
       "1667  vaughvi01  1947  LOU  PBLA      1   2.0   4.0        NaN          NaN\n",
       "1668  pailehe01  1947  NOL  PBLA      1   3.0   5.0        NaN          NaN\n",
       "1669   rosegl01  1947  OKD  PBLA      1   2.0   3.0        NaN          NaN\n",
       "1670  shephle01  1947  OMA  PBLA      1   2.0   4.0        NaN          NaN\n",
       "1671  hutchha01  1947  STJ  PBLA      1   1.0   6.0        NaN          NaN\n",
       "1672   halebr01  1947  STP  PBLA      1   6.0   3.0        NaN          NaN\n",
       "1673  davisdo01  1947  SPR  PBLA      1   1.0   7.0        NaN          NaN\n",
       "1674  gibbsji01  1947  TUL  PBLA      1   7.0   3.0        NaN          NaN\n",
       "1675   roossw01  1947  WAT  PBLA      1   1.0   5.0        NaN          NaN\n",
       "1676  gatesfr01  1950  AND  NPBL      1   NaN   NaN        NaN          NaN\n",
       "1677  klierle01  1950  AND  NPBL      2   NaN   NaN        NaN          NaN\n",
       "1678  dardeji01  1950  DNN  NPBL      1  18.0  16.0        NaN          NaN\n",
       "1679  lathage02  1950  EVA  NPBL      1   0.0   6.0        NaN          NaN\n",
       "1680  koliswa01  1950  LOA  NPBL      1  18.0  17.0        NaN          NaN\n",
       "1681  mcderbo01  1950  GRH  NPBL      1   NaN   NaN        NaN          NaN\n",
       "1682  glammge01  1950  GRH  NPBL      2   NaN   NaN        NaN          NaN\n",
       "1683  towerbl01  1950  GRH  NPBL      3   NaN   NaN        NaN          NaN\n",
       "1684  cloydpa01  1950  KCH  NPBL      1   NaN   NaN        NaN          NaN\n",
       "1685  eurasge01  1950  KCH  NPBL      2   NaN   NaN        NaN          NaN\n",
       "1686  schulho01  1950  SPL  NPBL      1  12.0   8.0        NaN          NaN\n",
       "1687  sueseke01  1950  SHE  NPBL      1  29.0  16.0        NaN          NaN\n",
       "1688  smileja01  1950  WAT  NPBL      1  32.0  24.0        NaN          NaN\n",
       "\n",
       "[1689 rows x 9 columns]"
      ]
     },
     "execution_count": 3,
     "metadata": {},
     "output_type": "execute_result"
    }
   ],
   "source": [
    "coaches = pd.read_csv(r\"C:\\Users\\FURKAN\\Desktop\\NJHH\\Week 12\\basketball_coaches.csv\")\n",
    "coaches "
   ]
  },
  {
   "cell_type": "markdown",
   "metadata": {},
   "source": [
    "## Section 2"
   ]
  },
  {
   "cell_type": "markdown",
   "metadata": {},
   "source": [
    "Won and lost is important parameters of coaches performance that will be used. won, describes number of victories. lost, describes number of match loses.\n",
    ".dropna() has been used to removing NaN variables."
   ]
  },
  {
   "cell_type": "code",
   "execution_count": 4,
   "metadata": {
    "scrolled": true
   },
   "outputs": [],
   "source": [
    "won=coaches['won']\n",
    "won=won.dropna()\n",
    "lost=coaches['lost']\n",
    "lost=lost.dropna()"
   ]
  },
  {
   "cell_type": "code",
   "execution_count": 5,
   "metadata": {
    "scrolled": true
   },
   "outputs": [
    {
     "data": {
      "text/plain": [
       "0       41.0\n",
       "1       49.0\n",
       "2       15.0\n",
       "3       13.0\n",
       "4       33.0\n",
       "5       12.0\n",
       "6       17.0\n",
       "7        2.0\n",
       "8       35.0\n",
       "9        0.0\n",
       "10      38.0\n",
       "11      28.0\n",
       "12      39.0\n",
       "13      17.0\n",
       "14      22.0\n",
       "15       8.0\n",
       "16       3.0\n",
       "17      28.0\n",
       "18      27.0\n",
       "19       4.0\n",
       "20      28.0\n",
       "21      26.0\n",
       "22      29.0\n",
       "23      28.0\n",
       "24      20.0\n",
       "25       2.0\n",
       "26      22.0\n",
       "27      38.0\n",
       "28       0.0\n",
       "29      10.0\n",
       "        ... \n",
       "1650    29.0\n",
       "1651    16.0\n",
       "1652    54.0\n",
       "1653    22.0\n",
       "1654    31.0\n",
       "1655    10.0\n",
       "1656    11.0\n",
       "1657     6.0\n",
       "1660     7.0\n",
       "1661     5.0\n",
       "1662     3.0\n",
       "1663     8.0\n",
       "1664     3.0\n",
       "1665     2.0\n",
       "1666     1.0\n",
       "1667     2.0\n",
       "1668     3.0\n",
       "1669     2.0\n",
       "1670     2.0\n",
       "1671     1.0\n",
       "1672     6.0\n",
       "1673     1.0\n",
       "1674     7.0\n",
       "1675     1.0\n",
       "1678    18.0\n",
       "1679     0.0\n",
       "1680    18.0\n",
       "1686    12.0\n",
       "1687    29.0\n",
       "1688    32.0\n",
       "Name: won, Length: 1680, dtype: float64"
      ]
     },
     "execution_count": 5,
     "metadata": {},
     "output_type": "execute_result"
    }
   ],
   "source": [
    "won"
   ]
  },
  {
   "cell_type": "code",
   "execution_count": 6,
   "metadata": {
    "scrolled": true
   },
   "outputs": [
    {
     "data": {
      "text/plain": [
       "0       40.0\n",
       "1       11.0\n",
       "2       45.0\n",
       "3       10.0\n",
       "4       27.0\n",
       "5       22.0\n",
       "6       20.0\n",
       "7        1.0\n",
       "8       25.0\n",
       "9        1.0\n",
       "10      23.0\n",
       "11      32.0\n",
       "12      22.0\n",
       "13      27.0\n",
       "14      38.0\n",
       "15      18.0\n",
       "16       9.0\n",
       "17      20.0\n",
       "18      21.0\n",
       "19      25.0\n",
       "20      20.0\n",
       "21      22.0\n",
       "22      19.0\n",
       "23      20.0\n",
       "24      28.0\n",
       "25      17.0\n",
       "26      32.0\n",
       "27      22.0\n",
       "28       6.0\n",
       "29       1.0\n",
       "        ... \n",
       "1650    53.0\n",
       "1651     8.0\n",
       "1652    25.0\n",
       "1653     9.0\n",
       "1654    50.0\n",
       "1655    18.0\n",
       "1656    14.0\n",
       "1657     9.0\n",
       "1660     1.0\n",
       "1661     2.0\n",
       "1662     3.0\n",
       "1663     0.0\n",
       "1664     3.0\n",
       "1665     0.0\n",
       "1666     5.0\n",
       "1667     4.0\n",
       "1668     5.0\n",
       "1669     3.0\n",
       "1670     4.0\n",
       "1671     6.0\n",
       "1672     3.0\n",
       "1673     7.0\n",
       "1674     3.0\n",
       "1675     5.0\n",
       "1678    16.0\n",
       "1679     6.0\n",
       "1680    17.0\n",
       "1686     8.0\n",
       "1687    16.0\n",
       "1688    24.0\n",
       "Name: lost, Length: 1680, dtype: float64"
      ]
     },
     "execution_count": 6,
     "metadata": {},
     "output_type": "execute_result"
    }
   ],
   "source": [
    "lost"
   ]
  },
  {
   "cell_type": "markdown",
   "metadata": {},
   "source": [
    "## Section 3"
   ]
  },
  {
   "cell_type": "code",
   "execution_count": 7,
   "metadata": {},
   "outputs": [
    {
     "data": {
      "text/plain": [
       "'5 descriptive statistic of won: standart deviation: 17.011147846862432, mean: 33.29821428571429, median: 36.0, min: 0.0, max: 72.0'"
      ]
     },
     "execution_count": 7,
     "metadata": {},
     "output_type": "execute_result"
    }
   ],
   "source": [
    "'5 descriptive statistic of won: standart deviation: ' + str(won.std()) + ', mean: ' + str(won.mean()) + ', median: ' +str(won.median())+', min: '+str(won.min())+', max: '+str(won.max())"
   ]
  },
  {
   "cell_type": "code",
   "execution_count": 8,
   "metadata": {},
   "outputs": [
    {
     "data": {
      "text/plain": [
       "'5 descriptive statistic of lost: standart deviation: 14.715967024642866, mean: 33.286904761904765, median: 33.0, min: 0.0, max: 71.0'"
      ]
     },
     "execution_count": 8,
     "metadata": {},
     "output_type": "execute_result"
    }
   ],
   "source": [
    "'5 descriptive statistic of lost: standart deviation: ' + str(lost.std()) + ', mean: ' + str(lost.mean()) + ', median: ' +str(lost.median())+', min: '+str(lost.min())+', max: '+str(lost.max())"
   ]
  },
  {
   "cell_type": "code",
   "execution_count": 9,
   "metadata": {
    "scrolled": true
   },
   "outputs": [
    {
     "name": "stdout",
     "output_type": "stream",
     "text": [
      "0.0 24\n",
      "1.0 21\n",
      "2.0 22\n",
      "3.0 17\n",
      "4.0 23\n",
      "5.0 16\n",
      "6.0 20\n",
      "7.0 12\n",
      "8.0 23\n",
      "9.0 19\n",
      "10.0 14\n",
      "11.0 21\n",
      "12.0 19\n",
      "13.0 20\n",
      "14.0 18\n",
      "15.0 24\n",
      "16.0 18\n",
      "17.0 28\n",
      "18.0 24\n",
      "19.0 19\n",
      "20.0 24\n",
      "21.0 26\n",
      "22.0 38\n",
      "23.0 20\n",
      "24.0 28\n",
      "25.0 26\n",
      "26.0 27\n",
      "27.0 23\n",
      "28.0 35\n",
      "29.0 22\n",
      "30.0 30\n",
      "31.0 29\n",
      "32.0 26\n",
      "33.0 30\n",
      "34.0 28\n",
      "35.0 24\n",
      "36.0 36\n",
      "37.0 28\n",
      "38.0 33\n",
      "39.0 30\n",
      "40.0 49\n",
      "41.0 48\n",
      "42.0 53\n",
      "43.0 34\n",
      "44.0 45\n",
      "45.0 35\n",
      "46.0 32\n",
      "47.0 38\n",
      "48.0 33\n",
      "49.0 26\n",
      "50.0 42\n",
      "51.0 20\n",
      "52.0 26\n",
      "53.0 20\n",
      "54.0 27\n",
      "55.0 32\n",
      "56.0 21\n",
      "57.0 28\n",
      "58.0 17\n",
      "59.0 19\n",
      "60.0 17\n",
      "61.0 10\n",
      "62.0 15\n",
      "63.0 8\n",
      "64.0 3\n",
      "65.0 4\n",
      "66.0 3\n",
      "67.0 4\n",
      "68.0 3\n",
      "69.0 2\n",
      "72.0 1\n"
     ]
    }
   ],
   "source": [
    "frequency_of_won = thinkstats2.Hist(won)\n",
    "for val in sorted(frequency_of_won.Values()):\n",
    "    print(val, frequency_of_won[val])"
   ]
  },
  {
   "cell_type": "markdown",
   "metadata": {},
   "source": [
    "the above and the following results indicate frequencies"
   ]
  },
  {
   "cell_type": "code",
   "execution_count": 10,
   "metadata": {
    "scrolled": true
   },
   "outputs": [
    {
     "name": "stdout",
     "output_type": "stream",
     "text": [
      "0.0 6\n",
      "1.0 14\n",
      "2.0 11\n",
      "3.0 10\n",
      "4.0 11\n",
      "5.0 8\n",
      "6.0 15\n",
      "7.0 6\n",
      "8.0 16\n",
      "9.0 12\n",
      "10.0 14\n",
      "11.0 8\n",
      "12.0 15\n",
      "13.0 19\n",
      "14.0 13\n",
      "15.0 23\n",
      "16.0 22\n",
      "17.0 20\n",
      "18.0 19\n",
      "19.0 28\n",
      "20.0 31\n",
      "21.0 28\n",
      "22.0 34\n",
      "23.0 39\n",
      "24.0 32\n",
      "25.0 57\n",
      "26.0 41\n",
      "27.0 46\n",
      "28.0 40\n",
      "29.0 40\n",
      "30.0 50\n",
      "31.0 31\n",
      "32.0 58\n",
      "33.0 36\n",
      "34.0 36\n",
      "35.0 47\n",
      "36.0 29\n",
      "37.0 41\n",
      "38.0 49\n",
      "39.0 43\n",
      "40.0 54\n",
      "41.0 46\n",
      "42.0 48\n",
      "43.0 33\n",
      "44.0 34\n",
      "45.0 29\n",
      "46.0 36\n",
      "47.0 21\n",
      "48.0 23\n",
      "49.0 19\n",
      "50.0 17\n",
      "51.0 21\n",
      "52.0 29\n",
      "53.0 12\n",
      "54.0 17\n",
      "55.0 10\n",
      "56.0 19\n",
      "57.0 14\n",
      "58.0 19\n",
      "59.0 13\n",
      "60.0 12\n",
      "61.0 10\n",
      "62.0 8\n",
      "63.0 7\n",
      "64.0 5\n",
      "65.0 9\n",
      "66.0 1\n",
      "67.0 10\n",
      "68.0 1\n",
      "69.0 3\n",
      "70.0 1\n",
      "71.0 1\n"
     ]
    }
   ],
   "source": [
    "frequency_of_lost = thinkstats2.Hist(lost)\n",
    "for val in sorted(frequency_of_lost.Values()):\n",
    "    print(val, frequency_of_lost[val])"
   ]
  },
  {
   "cell_type": "code",
   "execution_count": 11,
   "metadata": {
    "scrolled": true
   },
   "outputs": [
    {
     "name": "stderr",
     "output_type": "stream",
     "text": [
      "No handles with labels found to put in legend.\n"
     ]
    },
    {
     "data": {
      "image/png": "[encoded data removed]",
      "text/plain": [
       "<matplotlib.figure.Figure at 0x1e43d738b00>"
      ]
     },
     "metadata": {},
     "output_type": "display_data"
    }
   ],
   "source": [
    "width=0.5\n",
    "thinkplot.Hist(frequency_of_won)\n",
    "thinkplot.Config(xlabel='Number of winnings', ylabel='frequency_of_won', width=width) "
   ]
  },
  {
   "cell_type": "markdown",
   "metadata": {},
   "source": [
    "we can see from this histogram, we can say that most frequenced number of winnings are placed between 40 and nearly 43. also we can think that its approximately normal distribution."
   ]
  },
  {
   "cell_type": "code",
   "execution_count": 12,
   "metadata": {},
   "outputs": [
    {
     "name": "stderr",
     "output_type": "stream",
     "text": [
      "No handles with labels found to put in legend.\n"
     ]
    },
    {
     "data": {
      "image/png": "[encoded data removed]",
      "text/plain": [
       "<matplotlib.figure.Figure at 0x1e43d838358>"
      ]
     },
     "metadata": {},
     "output_type": "display_data"
    }
   ],
   "source": [
    "width=0.5\n",
    "thinkplot.Hist(frequency_of_lost)\n",
    "thinkplot.Config(xlabel='Number of game losses', ylabel='frequency_of_lost', width=width) "
   ]
  },
  {
   "cell_type": "markdown",
   "metadata": {},
   "source": [
    "We can see from this histogram that we can say that the greatest Number of game losses are in the range of about 25 and 41 games. also we can think that its approximately normal distribution."
   ]
  },
  {
   "cell_type": "code",
   "execution_count": 13,
   "metadata": {
    "scrolled": false
   },
   "outputs": [
    {
     "data": {
      "image/png": "[encoded data removed]",
      "text/plain": [
       "<matplotlib.figure.Figure at 0x1e43d87e898>"
      ]
     },
     "metadata": {},
     "output_type": "display_data"
    }
   ],
   "source": [
    "won_hist = thinkstats2.Hist(won, label='Number of winnings')\n",
    "lost_hist = thinkstats2.Hist(lost, label='Number of game losses')\n",
    "width =1\n",
    "thinkplot.PrePlot(2)\n",
    "thinkplot.Hist(won_hist , align='right', width=width,color='black')\n",
    "thinkplot.Hist(lost_hist, align='left', width=width,color='yellow')\n",
    "thinkplot.Config(xlabel='values', ylabel='Frequency') "
   ]
  },
  {
   "cell_type": "markdown",
   "metadata": {},
   "source": [
    "This is the both number of winnings and losses histogram. we can see from these graph, Number of game losses more frequenced values are placed in number of 25,32 and 41. Also, we can say that number of winnings more frequenced values are placed in 40 and nearly 43.\n",
    "\n"
   ]
  },
  {
   "cell_type": "code",
   "execution_count": 14,
   "metadata": {},
   "outputs": [
    {
     "data": {
      "image/png": "[encoded data removed]",
      "text/plain": [
       "<matplotlib.figure.Figure at 0x1e43a356128>"
      ]
     },
     "metadata": {},
     "output_type": "display_data"
    }
   ],
   "source": [
    "won_pmf = thinkstats2.Pmf(won, label='Number of winnings')\n",
    "lost_pmf = thinkstats2.Pmf(lost, label='Number of game losses')\n",
    "width =1\n",
    "\n",
    "# plot PMFs of birth weights for first babies and others\n",
    "thinkplot.PrePlot(3)\n",
    "thinkplot.Hist(won_pmf , align='right', width=width)\n",
    "thinkplot.Hist(lost_pmf, align='left', width=width)\n",
    "thinkplot.Config(xlabel='Weight (pounds)', ylabel='PMF')"
   ]
  },
  {
   "cell_type": "markdown",
   "metadata": {},
   "source": [
    "We can say that pmf and histogram are same shape because of probability mass are same as histogram. we can say that both variables are approximately normally distributed"
   ]
  },
  {
   "cell_type": "code",
   "execution_count": 15,
   "metadata": {},
   "outputs": [
    {
     "data": {
      "image/png": "[encoded data removed]",
      "text/plain": [
       "<matplotlib.figure.Figure at 0x1e43c699160>"
      ]
     },
     "metadata": {},
     "output_type": "display_data"
    }
   ],
   "source": [
    "won_cdf = thinkstats2.Cdf(won, label='Number of winnings')\n",
    "lost_cdf = thinkstats2.Cdf(lost, label='Number of game losses')\n",
    "\n",
    "thinkplot.PrePlot(2)\n",
    "thinkplot.Cdfs([won_cdf, lost_cdf])\n",
    "thinkplot.Config(xlabel='values', ylabel='CDF')"
   ]
  },
  {
   "cell_type": "markdown",
   "metadata": {},
   "source": [
    "cumulative density function graph describe that both Number of winnings and Number of game losses looks like continuous random variable and they are approximately has same shape."
   ]
  },
  {
   "cell_type": "markdown",
   "metadata": {},
   "source": [
    "## Section 4"
   ]
  },
  {
   "cell_type": "code",
   "execution_count": 16,
   "metadata": {},
   "outputs": [],
   "source": [
    "def MakeNormalPlot(weights):\n",
    "    \"\"\"Generates a normal probability plot of birth weights.\n",
    "\n",
    "    weights: sequence\n",
    "    \"\"\"\n",
    "    mean, var = thinkstats2.TrimmedMeanVar(weights, p=0.01)\n",
    "    std = np.sqrt(var)\n",
    "\n",
    "    xs = [-5, 5]\n",
    "    xs, ys = thinkstats2.FitLine(xs, mean, std)\n",
    "    thinkplot.Plot(xs, ys, color='0.8', label='model')\n",
    "\n",
    "    xs, ys = thinkstats2.NormalProbability(weights)\n",
    "    thinkplot.Plot(xs, ys, label='weights')"
   ]
  },
  {
   "cell_type": "code",
   "execution_count": 17,
   "metadata": {},
   "outputs": [
    {
     "data": {
      "image/png": "[encoded data removed]",
      "text/plain": [
       "<matplotlib.figure.Figure at 0x1e43dfbb828>"
      ]
     },
     "metadata": {},
     "output_type": "display_data"
    }
   ],
   "source": [
    "MakeNormalPlot(won)\n",
    "thinkplot.Config(title='Coaches Number of winnings, normal plot', xlabel='wins',\n",
    "                 ylabel='CDF', loc='upper left')"
   ]
  },
  {
   "cell_type": "markdown",
   "metadata": {},
   "source": [
    "it is almost fitted to the line. it means that almost normal plot fitted from the coaches number of winnings"
   ]
  },
  {
   "cell_type": "code",
   "execution_count": 18,
   "metadata": {},
   "outputs": [
    {
     "data": {
      "image/png": "[encoded data removed]",
      "text/plain": [
       "<matplotlib.figure.Figure at 0x1e43dfb51d0>"
      ]
     },
     "metadata": {},
     "output_type": "display_data"
    }
   ],
   "source": [
    "MakeNormalPlot(lost)\n",
    "thinkplot.Config(title='Coaches Number of game losses, normal plot', xlabel='wins',\n",
    "                 ylabel='CDF', loc='upper left')"
   ]
  },
  {
   "cell_type": "markdown",
   "metadata": {},
   "source": [
    "it is almost fitted to the line. it means that almost normal plot fitted from the coaches number of game losses. \n",
    "actually, number of game losses is better fitted the line than number of winnings"
   ]
  },
  {
   "cell_type": "markdown",
   "metadata": {},
   "source": [
    "## Section 5"
   ]
  },
  {
   "cell_type": "code",
   "execution_count": 19,
   "metadata": {},
   "outputs": [],
   "source": [
    "# https://docs.scipy.org/doc/numpy/reference/generated/numpy.asarray.html\n",
    "# https://docs.scipy.org/doc/numpy/reference/generated/numpy.dot.html\n",
    "def Cov(xs, ys, meanx=None, meany=None):\n",
    "    xs = np.asarray(xs)\n",
    "    ys = np.asarray(ys)\n",
    "\n",
    "    if meanx is None:\n",
    "        meanx = np.mean(xs)\n",
    "    if meany is None:\n",
    "        meany = np.mean(ys)\n",
    "\n",
    "    cov = np.dot(xs-meanx, ys-meany) / len(xs)\n",
    "    return cov"
   ]
  },
  {
   "cell_type": "code",
   "execution_count": 20,
   "metadata": {},
   "outputs": [
    {
     "data": {
      "text/plain": [
       "30.262655187074827"
      ]
     },
     "execution_count": 20,
     "metadata": {},
     "output_type": "execute_result"
    }
   ],
   "source": [
    "Cov(won, lost)"
   ]
  },
  {
   "cell_type": "markdown",
   "metadata": {},
   "source": [
    "Covariance is useful for some calculations, but it doesn't mean much by itself. The coefficient of correlation is a standardized version of covariance that is easier to interpret."
   ]
  },
  {
   "cell_type": "code",
   "execution_count": 21,
   "metadata": {},
   "outputs": [],
   "source": [
    "def Corr(xs, ys):\n",
    "    xs = np.asarray(xs)\n",
    "    ys = np.asarray(ys)\n",
    "\n",
    "    meanx, varx = thinkstats2.MeanVar(xs)\n",
    "    meany, vary = thinkstats2.MeanVar(ys)\n",
    "\n",
    "    corr = Cov(xs, ys, meanx, meany) / np.sqrt(varx * vary)\n",
    "    return corr"
   ]
  },
  {
   "cell_type": "code",
   "execution_count": 22,
   "metadata": {},
   "outputs": [
    {
     "data": {
      "text/plain": [
       "0.12096039322422208"
      ]
     },
     "execution_count": 22,
     "metadata": {},
     "output_type": "execute_result"
    }
   ],
   "source": [
    "Corr(won, lost) "
   ]
  },
  {
   "cell_type": "markdown",
   "metadata": {},
   "source": [
    "The correlation of won and lost is about 0.12, which is positive correlation. however, we can not say that there is absolutely  strong correlation"
   ]
  },
  {
   "cell_type": "code",
   "execution_count": 23,
   "metadata": {
    "scrolled": true
   },
   "outputs": [
    {
     "data": {
      "text/plain": [
       "<matplotlib.axes._subplots.AxesSubplot at 0x1e43d87df98>"
      ]
     },
     "execution_count": 23,
     "metadata": {},
     "output_type": "execute_result"
    },
    {
     "data": {
      "image/png": "[encoded data removed]",
      "text/plain": [
       "<matplotlib.figure.Figure at 0x1e43df1dd68>"
      ]
     },
     "metadata": {},
     "output_type": "display_data"
    }
   ],
   "source": [
    "import seaborn as sns\n",
    "sns.heatmap(coaches.corr(), annot=True, fmt=\".2f\")"
   ]
  },
  {
   "cell_type": "markdown",
   "metadata": {},
   "source": [
    "as we can see from the correlation heatmap won and lost correlation is 0.12."
   ]
  },
  {
   "cell_type": "markdown",
   "metadata": {},
   "source": [
    "## Section 6"
   ]
  },
  {
   "cell_type": "markdown",
   "metadata": {},
   "source": [
    "ı used scipy to look p-values for linearity of two variables "
   ]
  },
  {
   "cell_type": "code",
   "execution_count": 24,
   "metadata": {},
   "outputs": [],
   "source": [
    "from scipy import stats\n",
    "slope, intercept, r_value, p_value, std_err = stats.linregress(won,lost) "
   ]
  },
  {
   "cell_type": "code",
   "execution_count": 25,
   "metadata": {},
   "outputs": [
    {
     "data": {
      "text/plain": [
       "6.610235861136557e-07"
      ]
     },
     "execution_count": 25,
     "metadata": {},
     "output_type": "execute_result"
    }
   ],
   "source": [
    "p_value"
   ]
  },
  {
   "cell_type": "markdown",
   "metadata": {},
   "source": [
    "p-value is smaller than alpha values so reject null accept alternative which is conclude that there is linear relationship between win and lost "
   ]
  },
  {
   "cell_type": "code",
   "execution_count": 26,
   "metadata": {},
   "outputs": [],
   "source": [
    "from thinkstats2 import Mean, MeanVar, Var, Std, Cov\n",
    "\n",
    "def LeastSquares(xs, ys):\n",
    "    meanx, varx = MeanVar(xs)\n",
    "    meany = Mean(ys)\n",
    "\n",
    "    slope = Cov(xs, ys, meanx, meany) / varx\n",
    "    inter = meany - slope * meanx\n",
    "\n",
    "    return inter, slope"
   ]
  },
  {
   "cell_type": "markdown",
   "metadata": {},
   "source": [
    "Here's the least squares fit to won as a function of lost."
   ]
  },
  {
   "cell_type": "code",
   "execution_count": 27,
   "metadata": {},
   "outputs": [
    {
     "data": {
      "text/plain": [
       "(29.802574437169778, 0.10464015562029239)"
      ]
     },
     "execution_count": 27,
     "metadata": {},
     "output_type": "execute_result"
    }
   ],
   "source": [
    "inter, slope = LeastSquares(won, lost)\n",
    "inter, slope"
   ]
  },
  {
   "cell_type": "markdown",
   "metadata": {},
   "source": [
    "The intercept is often easier to interpret if we evaluate it at the mean of the independent variable.\n",
    "\n",
    "ıntercept: represents the mean valıe in the sufficient group\n",
    "slope: represents the difference in means between groups"
   ]
  },
  {
   "cell_type": "code",
   "execution_count": 38,
   "metadata": {},
   "outputs": [
    {
     "data": {
      "text/plain": [
       "32.41857832767709"
      ]
     },
     "execution_count": 38,
     "metadata": {},
     "output_type": "execute_result"
    }
   ],
   "source": [
    "inter + slope * 25"
   ]
  },
  {
   "cell_type": "code",
   "execution_count": 39,
   "metadata": {},
   "outputs": [
    {
     "data": {
      "text/plain": [
       "0.10464015562029239"
      ]
     },
     "execution_count": 39,
     "metadata": {},
     "output_type": "execute_result"
    }
   ],
   "source": [
    "slope"
   ]
  },
  {
   "cell_type": "code",
   "execution_count": 30,
   "metadata": {},
   "outputs": [],
   "source": [
    "class DiffMeansPermute(thinkstats2.HypothesisTest):\n",
    "\n",
    "    def TestStatistic(self, data):\n",
    "        group1, group2 = data\n",
    "        test_stat = abs(group1.mean() - group2.mean())\n",
    "        return test_stat\n",
    "\n",
    "    def MakeModel(self):\n",
    "        group1, group2 = self.data\n",
    "        self.n, self.m = len(group1), len(group2)\n",
    "        self.pool = np.hstack((group1, group2))\n",
    "\n",
    "    def RunModel(self):\n",
    "        np.random.shuffle(self.pool)\n",
    "        data = self.pool[:self.n], self.pool[self.n:]\n",
    "        return data"
   ]
  },
  {
   "cell_type": "code",
   "execution_count": 31,
   "metadata": {},
   "outputs": [
    {
     "data": {
      "text/plain": [
       "0.974"
      ]
     },
     "execution_count": 31,
     "metadata": {},
     "output_type": "execute_result"
    }
   ],
   "source": [
    "data = won,lost\n",
    "ht = DiffMeansPermute(data)\n",
    "pvalue = ht.PValue()\n",
    "pvalue"
   ]
  },
  {
   "cell_type": "code",
   "execution_count": null,
   "metadata": {},
   "outputs": [],
   "source": []
  }
 ],
 "metadata": {
  "kernelspec": {
   "display_name": "Python 3",
   "language": "python",
   "name": "python3"
  },
  "language_info": {
   "codemirror_mode": {
    "name": "ipython",
    "version": 3
   },
   "file_extension": ".py",
   "mimetype": "text/x-python",
   "name": "python",
   "nbconvert_exporter": "python",
   "pygments_lexer": "ipython3",
   "version": "3.6.4"
  }
 },
 "nbformat": 4,
 "nbformat_minor": 2
}
